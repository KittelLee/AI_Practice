{
 "cells": [
  {
   "cell_type": "markdown",
   "id": "c45f01af-c867-4115-bd15-0d995b5105fe",
   "metadata": {},
   "source": [
    "# 주피터 노트북 사용법 익히기"
   ]
  },
  {
   "cell_type": "code",
   "execution_count": 1,
   "id": "7803847b-eae4-4268-8ac3-d088aa9f99cb",
   "metadata": {},
   "outputs": [
    {
     "name": "stdout",
     "output_type": "stream",
     "text": [
      "hello world\n"
     ]
    }
   ],
   "source": [
    "print('hello world')"
   ]
  },
  {
   "cell_type": "code",
   "execution_count": 2,
   "id": "e31680b7-9e87-47f2-aabd-a36365da50b6",
   "metadata": {},
   "outputs": [
    {
     "name": "stdout",
     "output_type": "stream",
     "text": [
      "1\n"
     ]
    }
   ],
   "source": [
    "Num = 1\n",
    "print(Num);"
   ]
  },
  {
   "cell_type": "code",
   "execution_count": 3,
   "id": "6345710c-f00d-4310-9948-ac13ffbab6e1",
   "metadata": {},
   "outputs": [
    {
     "name": "stdout",
     "output_type": "stream",
     "text": [
      "[1, 2, 3, '글자']\n"
     ]
    }
   ],
   "source": [
    "array = [1, 2, 3, \"글자\"]\n",
    "print(array);"
   ]
  }
 ],
 "metadata": {
  "kernelspec": {
   "display_name": "Python 3 (ipykernel)",
   "language": "python",
   "name": "python3"
  },
  "language_info": {
   "codemirror_mode": {
    "name": "ipython",
    "version": 3
   },
   "file_extension": ".py",
   "mimetype": "text/x-python",
   "name": "python",
   "nbconvert_exporter": "python",
   "pygments_lexer": "ipython3",
   "version": "3.9.6"
  }
 },
 "nbformat": 4,
 "nbformat_minor": 5
}
