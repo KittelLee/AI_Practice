{
 "cells": [
  {
   "cell_type": "markdown",
   "id": "78abbf54-439c-4159-984d-13449b16b6be",
   "metadata": {},
   "source": [
    "# 주피터 노트북 사용법 익히기"
   ]
  },
  {
   "cell_type": "markdown",
   "id": "c45f01af-c867-4115-bd15-0d995b5105fe",
   "metadata": {},
   "source": [
    "# 주피터 노트북 사용법 익히기"
   ]
  },
  {
   "cell_type": "code",
   "execution_count": 1,
   "id": "7803847b-eae4-4268-8ac3-d088aa9f99cb",
   "metadata": {},
   "outputs": [
    {
     "name": "stdout",
     "output_type": "stream",
     "text": [
      "hello world\n"
     ]
    }
   ],
   "source": [
    "print('hello world')"
   ]
  },
  {
   "cell_type": "code",
   "execution_count": null,
   "id": "e31680b7-9e87-47f2-aabd-a36365da50b6",
   "metadata": {},
   "outputs": [],
   "source": []
  }
 ],
 "metadata": {
  "kernelspec": {
   "display_name": "Python 3 (ipykernel)",
   "language": "python",
   "name": "python3"
  },
  "language_info": {
   "codemirror_mode": {
    "name": "ipython",
    "version": 3
   },
   "file_extension": ".py",
   "mimetype": "text/x-python",
   "name": "python",
   "nbconvert_exporter": "python",
   "pygments_lexer": "ipython3",
   "version": "3.9.6"
  }
 },
 "nbformat": 4,
 "nbformat_minor": 5
}
